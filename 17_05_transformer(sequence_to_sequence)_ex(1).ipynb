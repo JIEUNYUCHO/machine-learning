{
  "cells": [
    {
      "cell_type": "markdown",
      "metadata": {
        "id": "view-in-github",
        "colab_type": "text"
      },
      "source": [
        "<a href=\"https://colab.research.google.com/github/JIEUNYUCHO/machine-learning/blob/master/17_05_transformer(sequence_to_sequence)_ex(1).ipynb\" target=\"_parent\"><img src=\"https://colab.research.google.com/assets/colab-badge.svg\" alt=\"Open In Colab\"/></a>"
      ]
    },
    {
      "cell_type": "markdown",
      "metadata": {
        "id": "wnO2lSxrC6Yd"
      },
      "source": [
        "이 노트북은 [케라스 창시자에게 배우는 딥러닝 2판](https://tensorflow.blog/kerasdl2/)의 예제 코드를 담고 있습니다.\n",
        "\n",
        "<table align=\"left\">\n",
        "    <tr>\n",
        "        <td>\n",
        "            <a href=\"https://colab.research.google.com/github/rickiepark/deep-learning-with-python-2nd/blob/main/chapter11_part04_sequence-to-sequence-learning.ipynb\" target=\"_parent\"><img src=\"https://colab.research.google.com/assets/colab-badge.svg\" alt=\"Open In Colab\"/></a>\n",
        "        </td>\n",
        "    </tr>\n",
        "</table>"
      ]
    },
    {
      "cell_type": "markdown",
      "metadata": {
        "id": "hYUxgYWrC6Yg"
      },
      "source": [
        "## 텍스트 분류를 넘어: 시퀀스-투-시퀀스 학습"
      ]
    },
    {
      "cell_type": "markdown",
      "metadata": {
        "id": "GFpTmSrxC6Yg"
      },
      "source": [
        "### 기계 번역 예제"
      ]
    },
    {
      "cell_type": "code",
      "execution_count": null,
      "metadata": {
        "colab": {
          "base_uri": "https://localhost:8080/"
        },
        "id": "I1ZDSF7AC6Yh",
        "outputId": "a33bf51b-b19b-47a2-b074-53093312ab32"
      },
      "outputs": [
        {
          "output_type": "stream",
          "name": "stdout",
          "text": [
            "--2023-11-25 23:15:18--  http://storage.googleapis.com/download.tensorflow.org/data/spa-eng.zip\n",
            "Resolving storage.googleapis.com (storage.googleapis.com)... 74.125.134.207, 74.125.139.207, 74.125.141.207, ...\n",
            "Connecting to storage.googleapis.com (storage.googleapis.com)|74.125.134.207|:80... connected.\n",
            "HTTP request sent, awaiting response... 200 OK\n",
            "Length: 2638744 (2.5M) [application/zip]\n",
            "Saving to: ‘spa-eng.zip’\n",
            "\n",
            "\rspa-eng.zip           0%[                    ]       0  --.-KB/s               \rspa-eng.zip         100%[===================>]   2.52M  --.-KB/s    in 0.008s  \n",
            "\n",
            "2023-11-25 23:15:18 (319 MB/s) - ‘spa-eng.zip’ saved [2638744/2638744]\n",
            "\n"
          ]
        }
      ],
      "source": [
        "!wget http://storage.googleapis.com/download.tensorflow.org/data/spa-eng.zip\n",
        "!unzip -q spa-eng.zip"
      ]
    },
    {
      "cell_type": "code",
      "execution_count": null,
      "metadata": {
        "id": "HwGu6EZxC6Yh"
      },
      "outputs": [],
      "source": [
        "text_file = \"spa-eng/spa.txt\"\n",
        "with open(text_file) as f:\n",
        "    lines = f.read().split(\"\\n\")[:-1]\n",
        "text_pairs = []\n",
        "for line in lines:\n",
        "    english, spanish = line.split(\"\\t\")\n",
        "    spanish = \"[start] \" + spanish + \" [end]\"\n",
        "    text_pairs.append((english, spanish))"
      ]
    },
    {
      "cell_type": "code",
      "execution_count": null,
      "metadata": {
        "colab": {
          "base_uri": "https://localhost:8080/"
        },
        "id": "j3ARnP9KC6Yi",
        "outputId": "89cf4295-7f02-41f5-cc17-17a53661d446"
      },
      "outputs": [
        {
          "output_type": "stream",
          "name": "stdout",
          "text": [
            "('They live in a rented house.', '[start] Viven en una casa alquilada. [end]')\n"
          ]
        }
      ],
      "source": [
        "import random\n",
        "print(random.choice(text_pairs))"
      ]
    },
    {
      "cell_type": "code",
      "execution_count": null,
      "metadata": {
        "id": "gcGm7oMfC6Yi"
      },
      "outputs": [],
      "source": [
        "import random\n",
        "random.shuffle(text_pairs)\n",
        "num_val_samples = int(0.15 * len(text_pairs))\n",
        "num_train_samples = len(text_pairs) - 2 * num_val_samples\n",
        "train_pairs = text_pairs[:num_train_samples]\n",
        "val_pairs = text_pairs[num_train_samples:num_train_samples + num_val_samples]\n",
        "test_pairs = text_pairs[num_train_samples + num_val_samples:]"
      ]
    },
    {
      "cell_type": "markdown",
      "metadata": {
        "id": "1c9yTMG4C6Yj"
      },
      "source": [
        "**영어와 스페인어 텍스트 쌍을 벡터화하기**"
      ]
    },
    {
      "cell_type": "code",
      "execution_count": null,
      "metadata": {
        "id": "vQd-CYfvC6Yj"
      },
      "outputs": [],
      "source": [
        "import tensorflow as tf\n",
        "from tensorflow.keras import layers\n",
        "import string\n",
        "import re\n",
        "\n",
        "strip_chars = string.punctuation + \"¿\"\n",
        "strip_chars = strip_chars.replace(\"[\", \"\")\n",
        "strip_chars = strip_chars.replace(\"]\", \"\")\n",
        "\n",
        "def custom_standardization(input_string):\n",
        "    lowercase = tf.strings.lower(input_string)\n",
        "    return tf.strings.regex_replace(\n",
        "        lowercase, f\"[{re.escape(strip_chars)}]\", \"\")\n",
        "\n",
        "vocab_size = 15000\n",
        "sequence_length = 20\n",
        "\n",
        "source_vectorization = layers.TextVectorization(\n",
        "    max_tokens=vocab_size,\n",
        "    output_mode=\"int\",\n",
        "    output_sequence_length=sequence_length,\n",
        ")\n",
        "target_vectorization = layers.TextVectorization(\n",
        "    max_tokens=vocab_size,\n",
        "    output_mode=\"int\",\n",
        "    output_sequence_length=sequence_length + 1,\n",
        "    standardize=custom_standardization,\n",
        ")\n",
        "train_english_texts = [pair[0] for pair in train_pairs]\n",
        "train_spanish_texts = [pair[1] for pair in train_pairs]\n",
        "source_vectorization.adapt(train_english_texts)\n",
        "target_vectorization.adapt(train_spanish_texts)"
      ]
    },
    {
      "cell_type": "markdown",
      "metadata": {
        "id": "4tuHosZOC6Yk"
      },
      "source": [
        "**번역 작업을 위한 데이터셋 준비하기**"
      ]
    },
    {
      "cell_type": "code",
      "source": [
        "from tensorflow import keras\n",
        "from tensorflow.keras import layers"
      ],
      "metadata": {
        "id": "rB5fLxfjgj7i"
      },
      "execution_count": null,
      "outputs": []
    },
    {
      "cell_type": "code",
      "execution_count": null,
      "metadata": {
        "id": "M7e9MC6PC6Yk"
      },
      "outputs": [],
      "source": [
        "batch_size = 64\n",
        "\n",
        "def format_dataset(eng, spa):\n",
        "    eng = source_vectorization(eng)\n",
        "    spa = target_vectorization(spa)\n",
        "    return ({\n",
        "        \"english\": eng,\n",
        "        \"spanish\": spa[:, :-1],\n",
        "    }, spa[:, 1:])\n",
        "\n",
        "def make_dataset(pairs):\n",
        "    eng_texts, spa_texts = zip(*pairs)\n",
        "    eng_texts = list(eng_texts)\n",
        "    spa_texts = list(spa_texts)\n",
        "    dataset = tf.data.Dataset.from_tensor_slices((eng_texts, spa_texts))\n",
        "    dataset = dataset.batch(batch_size)\n",
        "    dataset = dataset.map(format_dataset, num_parallel_calls=4)\n",
        "    return dataset.shuffle(2048).prefetch(16).cache()\n",
        "\n",
        "train_ds = make_dataset(train_pairs)\n",
        "val_ds = make_dataset(val_pairs)"
      ]
    },
    {
      "cell_type": "code",
      "execution_count": null,
      "metadata": {
        "colab": {
          "base_uri": "https://localhost:8080/"
        },
        "id": "VzIe7PCoC6Yl",
        "outputId": "cd4e3540-2ced-4915-8b50-cb9506e168c7"
      },
      "outputs": [
        {
          "output_type": "stream",
          "name": "stdout",
          "text": [
            "inputs['english'].shape: (64, 20)\n",
            "inputs['spanish'].shape: (64, 20)\n",
            "targets.shape: (64, 20)\n"
          ]
        }
      ],
      "source": [
        "for inputs, targets in train_ds.take(1):\n",
        "    print(f\"inputs['english'].shape: {inputs['english'].shape}\")\n",
        "    print(f\"inputs['spanish'].shape: {inputs['spanish'].shape}\")\n",
        "    print(f\"targets.shape: {targets.shape}\")"
      ]
    },
    {
      "cell_type": "markdown",
      "metadata": {
        "id": "D1tqIpNxC6Yl"
      },
      "source": [
        "### RNN을 사용한 시퀀스-투-시퀀스 모델"
      ]
    },
    {
      "cell_type": "markdown",
      "metadata": {
        "id": "Idn1gcR-C6Yl"
      },
      "source": [
        "**기반 인코더**"
      ]
    },
    {
      "cell_type": "markdown",
      "metadata": {
        "id": "xq5pLFNhC6Ym"
      },
      "source": [
        "**GRU 기반 디코더와 엔드-투-엔드 모델**"
      ]
    },
    {
      "cell_type": "markdown",
      "metadata": {
        "id": "D-kMw9qCC6Yn"
      },
      "source": [
        "**RNN 기반 시퀀스-투-시퀀스 모델 훈련하기**"
      ]
    },
    {
      "cell_type": "markdown",
      "metadata": {
        "id": "NUnTqtHQC6Yn"
      },
      "source": [
        "**RNN 인코더와 디코더로 새로운 문장 번역하기**"
      ]
    },
    {
      "cell_type": "markdown",
      "metadata": {
        "id": "ThpTHoiqC6Yo"
      },
      "source": [
        "### 트랜스포머를 사용한 시퀀스-투-시퀀스 모델"
      ]
    },
    {
      "cell_type": "markdown",
      "metadata": {
        "id": "pdRs7iLLC6Yo"
      },
      "source": [
        "#### 트랜스포머 디코더"
      ]
    },
    {
      "cell_type": "markdown",
      "metadata": {
        "id": "3bgMELmgC6Yo"
      },
      "source": [
        "**`TransformerDecoder` 클래스**"
      ]
    },
    {
      "cell_type": "code",
      "execution_count": null,
      "metadata": {
        "id": "NMlKqNtqC6Yo"
      },
      "outputs": [],
      "source": [
        "class TransformerDecoder(layers.Layer):\n",
        "    def __init__(self, embed_dim, dense_dim, num_heads, **kwargs):\n",
        "        super().__init__(**kwargs)\n",
        "        self.embed_dim = embed_dim\n",
        "        self.dense_dim = dense_dim\n",
        "        self.num_heads = num_heads\n",
        "        self.attention_1 = layers.MultiHeadAttention(\n",
        "            num_heads=num_heads, key_dim=embed_dim)\n",
        "        self.attention_2 = layers.MultiHeadAttention(\n",
        "            num_heads=num_heads, key_dim=embed_dim)\n",
        "        self.dense_proj = keras.Sequential(\n",
        "            [layers.Dense(dense_dim, activation=\"relu\"),\n",
        "             layers.Dense(embed_dim),]\n",
        "        )\n",
        "        self.layernorm_1 = layers.LayerNormalization()\n",
        "        self.layernorm_2 = layers.LayerNormalization()\n",
        "        self.layernorm_3 = layers.LayerNormalization()\n",
        "        self.supports_masking = True\n",
        "\n",
        "    def get_config(self):\n",
        "        config = super().get_config()\n",
        "        config.update({\n",
        "            \"embed_dim\": self.embed_dim,\n",
        "            \"num_heads\": self.num_heads,\n",
        "            \"dense_dim\": self.dense_dim,\n",
        "        })\n",
        "        return config\n",
        "\n",
        "    def call(self, inputs, encoder_outputs, mask=None):\n",
        "        attention_output_1 = self.attention_1(\n",
        "            query=inputs,\n",
        "            value=inputs,\n",
        "            key=inputs,\n",
        "            use_causal_mask=True)\n",
        "        attention_output_1 = self.layernorm_1(inputs + attention_output_1)\n",
        "        attention_output_2 = self.attention_2(\n",
        "            query=attention_output_1,\n",
        "            value=encoder_outputs,\n",
        "            key=encoder_outputs\n",
        "        )\n",
        "        attention_output_2 = self.layernorm_2(\n",
        "            attention_output_1 + attention_output_2)\n",
        "        proj_output = self.dense_proj(attention_output_2)\n",
        "        return self.layernorm_3(attention_output_2 + proj_output)"
      ]
    },
    {
      "cell_type": "markdown",
      "metadata": {
        "id": "yF6EcciHC6Yp"
      },
      "source": [
        "#### 기계 번역을 위한 트랜스포머"
      ]
    },
    {
      "cell_type": "markdown",
      "metadata": {
        "id": "_sOybVcwC6Yp"
      },
      "source": [
        "**`PositionalEmbedding` 층**"
      ]
    },
    {
      "cell_type": "code",
      "execution_count": null,
      "metadata": {
        "id": "L5e12udRC6Yp"
      },
      "outputs": [],
      "source": [
        "class PositionalEmbedding(layers.Layer):\n",
        "    def __init__(self, sequence_length, input_dim, output_dim, **kwargs):\n",
        "        super().__init__(**kwargs)\n",
        "        self.token_embeddings = layers.Embedding(\n",
        "            input_dim=input_dim, output_dim=output_dim)\n",
        "        self.position_embeddings = layers.Embedding(\n",
        "            input_dim=sequence_length, output_dim=output_dim)\n",
        "        self.sequence_length = sequence_length\n",
        "        self.input_dim = input_dim\n",
        "        self.output_dim = output_dim\n",
        "\n",
        "    def call(self, inputs):\n",
        "        length = tf.shape(inputs)[-1]\n",
        "        positions = tf.range(start=0, limit=length, delta=1)\n",
        "        embedded_tokens = self.token_embeddings(inputs)\n",
        "        embedded_positions = self.position_embeddings(positions)\n",
        "        return embedded_tokens + embedded_positions\n",
        "\n",
        "    def compute_mask(self, inputs, mask=None):\n",
        "        return tf.math.not_equal(inputs, 0)\n",
        "\n",
        "    def get_config(self):\n",
        "        config = super(PositionalEmbedding, self).get_config()\n",
        "        config.update({\n",
        "            \"output_dim\": self.output_dim,\n",
        "            \"sequence_length\": self.sequence_length,\n",
        "            \"input_dim\": self.input_dim,\n",
        "        })\n",
        "        return config"
      ]
    },
    {
      "cell_type": "markdown",
      "metadata": {
        "id": "1H7QlHwQC6Yp"
      },
      "source": [
        "**엔드-투-엔드 트랜스포머**"
      ]
    },
    {
      "cell_type": "code",
      "execution_count": null,
      "metadata": {
        "id": "vIM5VwfzN4Co"
      },
      "outputs": [],
      "source": [
        "class TransformerEncoder(layers.Layer):\n",
        "    def __init__(self, embed_dim, dense_dim, num_heads, **kwargs):\n",
        "        super().__init__(**kwargs)\n",
        "        self.embed_dim = embed_dim\n",
        "        self.dense_dim = dense_dim\n",
        "        self.num_heads = num_heads\n",
        "        self.attention = layers.MultiHeadAttention(\n",
        "            num_heads=num_heads, key_dim=embed_dim)\n",
        "        self.dense_proj = keras.Sequential(\n",
        "            [layers.Dense(dense_dim, activation=\"relu\"),\n",
        "             layers.Dense(embed_dim),]\n",
        "        )\n",
        "        self.layernorm_1 = layers.LayerNormalization()\n",
        "        self.layernorm_2 = layers.LayerNormalization()\n",
        "\n",
        "    def call(self, inputs, mask=None):\n",
        "        if mask is not None:\n",
        "            mask = mask[:, tf.newaxis, :]\n",
        "        attention_output = self.attention(\n",
        "            inputs, inputs, attention_mask=mask)\n",
        "        proj_input = self.layernorm_1(inputs + attention_output)\n",
        "        proj_output = self.dense_proj(proj_input)\n",
        "        return self.layernorm_2(proj_input + proj_output)\n",
        "\n",
        "    def get_config(self):\n",
        "        config = super().get_config()\n",
        "        config.update({\n",
        "            \"embed_dim\": self.embed_dim,\n",
        "            \"num_heads\": self.num_heads,\n",
        "            \"dense_dim\": self.dense_dim,\n",
        "        })\n",
        "        return config"
      ]
    },
    {
      "cell_type": "code",
      "execution_count": null,
      "metadata": {
        "id": "M-s0ZCSQC6Yp"
      },
      "outputs": [],
      "source": [
        "embed_dim = 256\n",
        "dense_dim = 2048\n",
        "num_heads = 8\n",
        "\n",
        "encoder_inputs = keras.Input(shape=(None,), dtype=\"int64\", name=\"english\")\n",
        "x = PositionalEmbedding(sequence_length, vocab_size, embed_dim)(encoder_inputs)\n",
        "encoder_outputs = TransformerEncoder(embed_dim, dense_dim, num_heads)(x)\n",
        "\n",
        "decoder_inputs = keras.Input(shape=(None,), dtype=\"int64\", name=\"spanish\")\n",
        "x = PositionalEmbedding(sequence_length, vocab_size, embed_dim)(decoder_inputs)\n",
        "x = TransformerDecoder(embed_dim, dense_dim, num_heads)(x, encoder_outputs)\n",
        "x = layers.Dropout(0.5)(x)\n",
        "decoder_outputs = layers.Dense(vocab_size, activation=\"softmax\")(x)\n",
        "transformer = keras.Model([encoder_inputs, decoder_inputs], decoder_outputs)"
      ]
    },
    {
      "cell_type": "markdown",
      "metadata": {
        "id": "IstNU4guC6Yp"
      },
      "source": [
        "**시퀀스-투-시퀀스 트랜스포머 훈련하기**"
      ]
    },
    {
      "cell_type": "code",
      "execution_count": null,
      "metadata": {
        "colab": {
          "base_uri": "https://localhost:8080/"
        },
        "id": "ox_6aZfxC6Yq",
        "outputId": "e3102d81-32b6-419b-b01b-f0212caa9b5f"
      },
      "outputs": [
        {
          "output_type": "stream",
          "name": "stdout",
          "text": [
            "Epoch 1/30\n",
            "1302/1302 [==============================] - 104s 72ms/step - loss: 3.9607 - accuracy: 0.4172 - val_loss: 2.7071 - val_accuracy: 0.5790\n",
            "Epoch 2/30\n",
            "1302/1302 [==============================] - 87s 67ms/step - loss: 2.5858 - accuracy: 0.6019 - val_loss: 2.1633 - val_accuracy: 0.6497\n",
            "Epoch 3/30\n",
            "1302/1302 [==============================] - 87s 67ms/step - loss: 2.2048 - accuracy: 0.6532 - val_loss: 2.0685 - val_accuracy: 0.6658\n",
            "Epoch 4/30\n",
            "1302/1302 [==============================] - 87s 67ms/step - loss: 2.0203 - accuracy: 0.6794 - val_loss: 1.9811 - val_accuracy: 0.6780\n",
            "Epoch 5/30\n",
            "1302/1302 [==============================] - 87s 67ms/step - loss: 1.9106 - accuracy: 0.6970 - val_loss: 1.9533 - val_accuracy: 0.6876\n",
            "Epoch 6/30\n",
            "1302/1302 [==============================] - 87s 67ms/step - loss: 1.8399 - accuracy: 0.7096 - val_loss: 2.0199 - val_accuracy: 0.6808\n",
            "Epoch 7/30\n",
            "1302/1302 [==============================] - 87s 67ms/step - loss: 1.7886 - accuracy: 0.7189 - val_loss: 1.9746 - val_accuracy: 0.6889\n",
            "Epoch 8/30\n",
            "1302/1302 [==============================] - 87s 67ms/step - loss: 1.7534 - accuracy: 0.7263 - val_loss: 1.9994 - val_accuracy: 0.6911\n",
            "Epoch 9/30\n",
            "1302/1302 [==============================] - 87s 67ms/step - loss: 1.7204 - accuracy: 0.7327 - val_loss: 2.0222 - val_accuracy: 0.6917\n",
            "Epoch 10/30\n",
            "1302/1302 [==============================] - 87s 67ms/step - loss: 1.6938 - accuracy: 0.7388 - val_loss: 2.0419 - val_accuracy: 0.6895\n",
            "Epoch 11/30\n",
            "1302/1302 [==============================] - 87s 67ms/step - loss: 1.6686 - accuracy: 0.7439 - val_loss: 2.0440 - val_accuracy: 0.6955\n",
            "Epoch 12/30\n",
            "1302/1302 [==============================] - 87s 66ms/step - loss: 1.6441 - accuracy: 0.7486 - val_loss: 2.0751 - val_accuracy: 0.6914\n",
            "Epoch 13/30\n",
            "1302/1302 [==============================] - 87s 67ms/step - loss: 1.6244 - accuracy: 0.7523 - val_loss: 2.0800 - val_accuracy: 0.6931\n",
            "Epoch 14/30\n",
            "1302/1302 [==============================] - 87s 67ms/step - loss: 1.6041 - accuracy: 0.7563 - val_loss: 2.1229 - val_accuracy: 0.6908\n",
            "Epoch 15/30\n",
            "1302/1302 [==============================] - 87s 66ms/step - loss: 1.5861 - accuracy: 0.7598 - val_loss: 2.1241 - val_accuracy: 0.6938\n",
            "Epoch 16/30\n",
            "1302/1302 [==============================] - 87s 67ms/step - loss: 1.5669 - accuracy: 0.7637 - val_loss: 2.1626 - val_accuracy: 0.6899\n",
            "Epoch 17/30\n",
            "1302/1302 [==============================] - 87s 66ms/step - loss: 1.5486 - accuracy: 0.7673 - val_loss: 2.1811 - val_accuracy: 0.6900\n",
            "Epoch 18/30\n",
            "1302/1302 [==============================] - 87s 67ms/step - loss: 1.5340 - accuracy: 0.7703 - val_loss: 2.1952 - val_accuracy: 0.6899\n",
            "Epoch 19/30\n",
            "1302/1302 [==============================] - 87s 66ms/step - loss: 1.5172 - accuracy: 0.7726 - val_loss: 2.2245 - val_accuracy: 0.6890\n",
            "Epoch 20/30\n",
            "1302/1302 [==============================] - 87s 67ms/step - loss: 1.5026 - accuracy: 0.7756 - val_loss: 2.2549 - val_accuracy: 0.6906\n",
            "Epoch 21/30\n",
            "1302/1302 [==============================] - 87s 67ms/step - loss: 1.4889 - accuracy: 0.7791 - val_loss: 2.2525 - val_accuracy: 0.6886\n",
            "Epoch 22/30\n",
            "1302/1302 [==============================] - 87s 67ms/step - loss: 1.4770 - accuracy: 0.7812 - val_loss: 2.2602 - val_accuracy: 0.6888\n",
            "Epoch 23/30\n",
            "1302/1302 [==============================] - 87s 67ms/step - loss: 1.4631 - accuracy: 0.7837 - val_loss: 2.2754 - val_accuracy: 0.6956\n",
            "Epoch 24/30\n",
            "1302/1302 [==============================] - 87s 67ms/step - loss: 1.4487 - accuracy: 0.7862 - val_loss: 2.3069 - val_accuracy: 0.6922\n",
            "Epoch 25/30\n",
            "1302/1302 [==============================] - 87s 67ms/step - loss: 1.4359 - accuracy: 0.7884 - val_loss: 2.3424 - val_accuracy: 0.6911\n",
            "Epoch 26/30\n",
            "1302/1302 [==============================] - 87s 67ms/step - loss: 1.4238 - accuracy: 0.7906 - val_loss: 2.3282 - val_accuracy: 0.6939\n",
            "Epoch 27/30\n",
            "1302/1302 [==============================] - 87s 67ms/step - loss: 1.4120 - accuracy: 0.7928 - val_loss: 2.3363 - val_accuracy: 0.6919\n",
            "Epoch 28/30\n",
            "1302/1302 [==============================] - 87s 67ms/step - loss: 1.4017 - accuracy: 0.7950 - val_loss: 2.3620 - val_accuracy: 0.6916\n",
            "Epoch 29/30\n",
            "1302/1302 [==============================] - 86s 66ms/step - loss: 1.3907 - accuracy: 0.7971 - val_loss: 2.4015 - val_accuracy: 0.6871\n",
            "Epoch 30/30\n",
            "1302/1302 [==============================] - 87s 67ms/step - loss: 1.3812 - accuracy: 0.7987 - val_loss: 2.4640 - val_accuracy: 0.6855\n"
          ]
        },
        {
          "output_type": "execute_result",
          "data": {
            "text/plain": [
              "<keras.src.callbacks.History at 0x7bce604b8130>"
            ]
          },
          "metadata": {},
          "execution_count": 13
        }
      ],
      "source": [
        "transformer.compile(\n",
        "    optimizer=\"rmsprop\",\n",
        "    loss=\"sparse_categorical_crossentropy\",\n",
        "    metrics=[\"accuracy\"])\n",
        "transformer.fit(train_ds, epochs=30, validation_data=val_ds)"
      ]
    },
    {
      "cell_type": "markdown",
      "metadata": {
        "id": "-rE4EM5PC6Yq"
      },
      "source": [
        "**트랜스포머 모델을 사용해 새로운 문장 번역하기**"
      ]
    },
    {
      "cell_type": "code",
      "execution_count": null,
      "metadata": {
        "colab": {
          "base_uri": "https://localhost:8080/"
        },
        "id": "gQ3O0QCLC6Yq",
        "outputId": "f9bea602-937e-4a2a-901d-53356c67638f"
      },
      "outputs": [
        {
          "output_type": "stream",
          "name": "stdout",
          "text": [
            "-\n",
            "I'm looking forward to hearing from you.\n",
            "[start] estoy deseando tener que oír de ti [end]\n",
            "-\n",
            "I would like to start.\n",
            "[start] me gustaría empezar [end]\n",
            "-\n",
            "Tom is married to a teacher.\n",
            "[start] tom está casado con un profesor [end]\n",
            "-\n",
            "Rich mineral deposits have been discovered recently in Afghanistan.\n",
            "[start] la causa de la [UNK] que ha sido [UNK] en la casa [end]\n",
            "-\n",
            "Do you have a house?\n",
            "[start] tiene una casa [end]\n",
            "-\n",
            "When was the last time you heard Tom talking about Mary?\n",
            "[start] cuando [UNK] la última vez que [UNK] [UNK] de maría [end]\n",
            "-\n",
            "I was surprised Tom wasn't here yesterday.\n",
            "[start] ayer me sorprendió que ayer tom no estaba aquí [end]\n",
            "-\n",
            "Put the broom in the closet.\n",
            "[start] [UNK] la escoba en el [UNK] [end]\n",
            "-\n",
            "I want Tom left alone.\n",
            "[start] quiero que tom se fue sola [end]\n",
            "-\n",
            "It seemed that Tom was hiding something.\n",
            "[start] parecía que tom estaba escondiendo algo [end]\n",
            "-\n",
            "We always spend our vacation by the sea.\n",
            "[start] siempre pasamos de vacaciones nuestro mar [end]\n",
            "-\n",
            "I like to shop at that department store.\n",
            "[start] me gusta comprar esa tienda en esa tienda [end]\n",
            "-\n",
            "She's eating an apple.\n",
            "[start] ella está comiendo una manzana [end]\n",
            "-\n",
            "Tom, wake up.\n",
            "[start] tom levanta [end]\n",
            "-\n",
            "The book is easy.\n",
            "[start] el libro es fácil [end]\n",
            "-\n",
            "Fortunately, my son quickly adjusted to life in his new school.\n",
            "[start] afortunadamente mi hijo se [UNK] a la vida en nueva escuela [end]\n",
            "-\n",
            "Please close the door quietly.\n",
            "[start] por favor cierra la puerta de lentamente [end]\n",
            "-\n",
            "I often play soccer after class.\n",
            "[start] yo a menudo juego al fútbol después de clase [end]\n",
            "-\n",
            "Come to watch us play.\n",
            "[start] ven a [UNK] que [UNK] [end]\n",
            "-\n",
            "We all work.\n",
            "[start] todos [UNK] [end]\n"
          ]
        }
      ],
      "source": [
        "import numpy as np\n",
        "spa_vocab = target_vectorization.get_vocabulary()\n",
        "spa_index_lookup = dict(zip(range(len(spa_vocab)), spa_vocab))\n",
        "max_decoded_sentence_length = 20\n",
        "\n",
        "def decode_sequence(input_sentence):\n",
        "    tokenized_input_sentence = source_vectorization([input_sentence])\n",
        "    decoded_sentence = \"[start]\"\n",
        "    for i in range(max_decoded_sentence_length):\n",
        "        tokenized_target_sentence = target_vectorization(\n",
        "            [decoded_sentence])[:, :-1]\n",
        "        predictions = transformer(\n",
        "            [tokenized_input_sentence, tokenized_target_sentence])\n",
        "        sampled_token_index = np.argmax(predictions[0, i, :])\n",
        "        sampled_token = spa_index_lookup[sampled_token_index]\n",
        "        decoded_sentence += \" \" + sampled_token\n",
        "        if sampled_token == \"[end]\":\n",
        "            break\n",
        "    return decoded_sentence\n",
        "\n",
        "test_eng_texts = [pair[0] for pair in test_pairs]\n",
        "for _ in range(20):\n",
        "    input_sentence = random.choice(test_eng_texts)\n",
        "    print(\"-\")\n",
        "    print(input_sentence)\n",
        "    print(decode_sequence(input_sentence))"
      ]
    },
    {
      "cell_type": "code",
      "source": [
        "sen = \"how are you\"\n",
        "print(decode_sequence(sen))"
      ],
      "metadata": {
        "colab": {
          "base_uri": "https://localhost:8080/"
        },
        "id": "HHJV7gge7fUG",
        "outputId": "aa22cebf-c5dc-413c-c195-65e1ce225e1a"
      },
      "execution_count": null,
      "outputs": [
        {
          "output_type": "stream",
          "name": "stdout",
          "text": [
            "[start] cómo están [end]\n"
          ]
        }
      ]
    },
    {
      "cell_type": "code",
      "source": [
        "sen = \"I go to school\"\n",
        "print(decode_sequence(sen))"
      ],
      "metadata": {
        "outputId": "d701988a-d532-4f41-a35d-b748c8e2ba27",
        "colab": {
          "base_uri": "https://localhost:8080/"
        },
        "id": "YSZ_xPf-8X-x"
      },
      "execution_count": null,
      "outputs": [
        {
          "output_type": "stream",
          "name": "stdout",
          "text": [
            "[start] voy a la escuela [end]\n"
          ]
        }
      ]
    },
    {
      "cell_type": "code",
      "source": [
        "sen = \"I have to eat something\"\n",
        "print(decode_sequence(sen))"
      ],
      "metadata": {
        "outputId": "2a6e7178-d082-4535-cd55-970e85a5ed46",
        "colab": {
          "base_uri": "https://localhost:8080/",
          "height": 203
        },
        "id": "1ZGq0Rux9Fvb"
      },
      "execution_count": null,
      "outputs": [
        {
          "output_type": "error",
          "ename": "NameError",
          "evalue": "ignored",
          "traceback": [
            "\u001b[0;31m---------------------------------------------------------------------------\u001b[0m",
            "\u001b[0;31mNameError\u001b[0m                                 Traceback (most recent call last)",
            "\u001b[0;32m<ipython-input-1-886792a10d4f>\u001b[0m in \u001b[0;36m<cell line: 2>\u001b[0;34m()\u001b[0m\n\u001b[1;32m      1\u001b[0m \u001b[0msen\u001b[0m \u001b[0;34m=\u001b[0m \u001b[0;34m\"I have to eat something\"\u001b[0m\u001b[0;34m\u001b[0m\u001b[0;34m\u001b[0m\u001b[0m\n\u001b[0;32m----> 2\u001b[0;31m \u001b[0mprint\u001b[0m\u001b[0;34m(\u001b[0m\u001b[0mdecode_sequence\u001b[0m\u001b[0;34m(\u001b[0m\u001b[0msen\u001b[0m\u001b[0;34m)\u001b[0m\u001b[0;34m)\u001b[0m\u001b[0;34m\u001b[0m\u001b[0;34m\u001b[0m\u001b[0m\n\u001b[0m",
            "\u001b[0;31mNameError\u001b[0m: name 'decode_sequence' is not defined"
          ]
        }
      ]
    },
    {
      "cell_type": "markdown",
      "metadata": {
        "id": "gz8VRatlC6Yq"
      },
      "source": [
        "## 요약"
      ]
    }
  ],
  "metadata": {
    "accelerator": "GPU",
    "colab": {
      "provenance": [],
      "machine_shape": "hm",
      "gpuType": "T4",
      "gpuClass": "premium",
      "include_colab_link": true
    },
    "kernelspec": {
      "display_name": "default:Python",
      "language": "python",
      "name": "conda-env-default-py"
    },
    "language_info": {
      "codemirror_mode": {
        "name": "ipython",
        "version": 3
      },
      "file_extension": ".py",
      "mimetype": "text/x-python",
      "name": "python",
      "nbconvert_exporter": "python",
      "pygments_lexer": "ipython3",
      "version": "3.9.10"
    }
  },
  "nbformat": 4,
  "nbformat_minor": 0
}